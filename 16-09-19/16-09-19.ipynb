{
 "cells": [
  {
   "cell_type": "markdown",
   "metadata": {},
   "source": [
    "# dictionarys examples"
   ]
  },
  {
   "cell_type": "code",
   "execution_count": 68,
   "metadata": {},
   "outputs": [
    {
     "name": "stdout",
     "output_type": "stream",
     "text": [
      "g\n"
     ]
    }
   ],
   "source": [
    "d={\"a\":60,\"d\":82,\"f\":36,\"c\":55}\n",
    "d[\"g\"]=789\n",
    "r=d.copy()\n",
    "r.pop(\"g\")\n",
    "d\n",
    "print(max(d))\n"
   ]
  },
  {
   "cell_type": "code",
   "execution_count": null,
   "metadata": {},
   "outputs": [],
   "source": [
    "# find given dictionary toppers"
   ]
  },
  {
   "cell_type": "code",
   "execution_count": 60,
   "metadata": {},
   "outputs": [
    {
     "name": "stdout",
     "output_type": "stream",
     "text": [
      "('a', 60) ('c', 55) ('d', 82) ('f', 36) "
     ]
    }
   ],
   "source": [
    "d={\"a\":60,\"d\":82,\"f\":36,\"c\":55}\n",
    "for i in sorted (d.items()) :   \n",
    "     print(i, end = \" \") \n",
    "    \n",
    "\n",
    "    "
   ]
  },
  {
   "cell_type": "code",
   "execution_count": 109,
   "metadata": {},
   "outputs": [
    {
     "name": "stdout",
     "output_type": "stream",
     "text": [
      "d top\n",
      "a second\n",
      "c third\n"
     ]
    },
    {
     "data": {
      "text/plain": [
       "55"
      ]
     },
     "execution_count": 109,
     "metadata": {},
     "output_type": "execute_result"
    }
   ],
   "source": [
    "d={\"a\":60,\"d\":82,\"f\":36,\"c\":55}\n",
    "t=max(d.values())\n",
    "for i in d:\n",
    "    if d[i]==t:\n",
    "        print(i,\"top\")\n",
    "        k=i\n",
    "d.pop(k)\n",
    "t=max(d.values())\n",
    "for i in d:\n",
    "    if d[i]==t:\n",
    "        print(i,\"second\")\n",
    "        k=i\n",
    "d.pop(k)\n",
    "t=max(d.values())\n",
    "for i in d:\n",
    "    if d[i]==t:\n",
    "        print(i,\"third\")\n",
    "        k=i\n",
    "d.pop(k)\n"
   ]
  },
  {
   "cell_type": "code",
   "execution_count": null,
   "metadata": {},
   "outputs": [],
   "source": [
    "# method 2"
   ]
  },
  {
   "cell_type": "code",
   "execution_count": 110,
   "metadata": {},
   "outputs": [
    {
     "name": "stdout",
     "output_type": "stream",
     "text": [
      "d 82 top\n",
      "a 60 top\n",
      "c 55 top\n"
     ]
    }
   ],
   "source": [
    "d={\"a\":60,\"d\":82,\"f\":36,\"c\":55}\n",
    "t=d.copy()\n",
    "j=1\n",
    "while j<=3:\n",
    "    m=max(t.values())\n",
    "    for i in d:\n",
    "        if d[i]==m:\n",
    "            print(i,d[i],\"top\")\n",
    "            t.pop(i)\n",
    "    j=j+1\n",
    "    "
   ]
  },
  {
   "cell_type": "markdown",
   "metadata": {},
   "source": [
    "# updating dict"
   ]
  },
  {
   "cell_type": "code",
   "execution_count": 112,
   "metadata": {},
   "outputs": [
    {
     "data": {
      "text/plain": [
       "{'a': 60, 'd': 82, 'f': 36, 'c': 55, 's': 324}"
      ]
     },
     "execution_count": 112,
     "metadata": {},
     "output_type": "execute_result"
    }
   ],
   "source": [
    "d={\"a\":60,\"d\":82,\"f\":36,\"c\":55}\n",
    "d[\"s\"]=324\n",
    "d"
   ]
  },
  {
   "cell_type": "markdown",
   "metadata": {},
   "source": [
    "# sets"
   ]
  },
  {
   "cell_type": "code",
   "execution_count": 123,
   "metadata": {},
   "outputs": [
    {
     "name": "stdout",
     "output_type": "stream",
     "text": [
      "[1, 2, 3, 4, 5, 6, 7]\n"
     ]
    }
   ],
   "source": [
    "s={1,2,3,4,5,6,7}\n",
    "l=list(s)\n",
    "\n",
    "print(l)"
   ]
  },
  {
   "cell_type": "code",
   "execution_count": null,
   "metadata": {},
   "outputs": [],
   "source": [
    "dir"
   ]
  },
  {
   "cell_type": "code",
   "execution_count": null,
   "metadata": {},
   "outputs": [],
   "source": []
  },
  {
   "cell_type": "code",
   "execution_count": null,
   "metadata": {},
   "outputs": [],
   "source": []
  },
  {
   "cell_type": "code",
   "execution_count": null,
   "metadata": {},
   "outputs": [],
   "source": []
  }
 ],
 "metadata": {
  "kernelspec": {
   "display_name": "Python 3",
   "language": "python",
   "name": "python3"
  },
  "language_info": {
   "codemirror_mode": {
    "name": "ipython",
    "version": 3
   },
   "file_extension": ".py",
   "mimetype": "text/x-python",
   "name": "python",
   "nbconvert_exporter": "python",
   "pygments_lexer": "ipython3",
   "version": "3.7.3"
  }
 },
 "nbformat": 4,
 "nbformat_minor": 2
}
