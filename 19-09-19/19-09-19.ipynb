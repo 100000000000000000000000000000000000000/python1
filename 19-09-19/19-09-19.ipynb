{
 "cells": [
  {
   "cell_type": "markdown",
   "metadata": {},
   "source": [
    "# file writing and reading"
   ]
  },
  {
   "cell_type": "code",
   "execution_count": 16,
   "metadata": {},
   "outputs": [],
   "source": [
    "filepath=\"../files/sample.txt\"\n",
    "with open(filepath,'w') as f:\n",
    "    f.write(\"this is my first line\\nthis is my second line\\n\")\n",
    "    \n"
   ]
  },
  {
   "cell_type": "code",
   "execution_count": 36,
   "metadata": {},
   "outputs": [
    {
     "name": "stdout",
     "output_type": "stream",
     "text": [
      "this is my first line\n",
      "this is my second line\n",
      "this my third line\n",
      "this is imaje\n",
      "this is imaje\n",
      "this is imaje\n"
     ]
    }
   ],
   "source": [
    "filepath=\"../files/sample.txt\"\n",
    "with open(filepath,'r') as f:\n",
    "    data=f.read()\n",
    "    print(data)"
   ]
  },
  {
   "cell_type": "code",
   "execution_count": 1,
   "metadata": {},
   "outputs": [],
   "source": [
    "filepath=\"../files/sample.txt\"\n",
    "with open(filepath,'a') as f:\n",
    "    f.write(\"\\nthis is imaje\")"
   ]
  },
  {
   "cell_type": "markdown",
   "metadata": {},
   "source": [
    "# print perticular line"
   ]
  },
  {
   "cell_type": "code",
   "execution_count": 37,
   "metadata": {},
   "outputs": [
    {
     "name": "stdout",
     "output_type": "stream",
     "text": [
      "['t', 'h', 'i', 's', ' ', 'i', 's', ' ', 'm', 'y', ' ', 'f', 'i', 'r', 's', 't', ' ', 'l', 'i', 'n', 'e', '\\n', 't', 'h', 'i', 's', ' ', 'i', 's', ' ', 'm', 'y', ' ', 's', 'e', 'c', 'o', 'n', 'd', ' ', 'l', 'i', 'n', 'e', '\\n', 't', 'h', 'i', 's', ' ', 'm', 'y', ' ', 't', 'h', 'i', 'r', 'd', ' ', 'l', 'i', 'n', 'e', '\\n', 't', 'h', 'i', 's', ' ', 'i', 's', ' ', 'i', 'm', 'a', 'j', 'e', '\\n', 't', 'h', 'i', 's', ' ', 'i', 's', ' ', 'i', 'm', 'a', 'j', 'e', '\\n', 't', 'h', 'i', 's', ' ', 'i', 's', ' ', 'i', 'm', 'a', 'j', 'e']\n"
     ]
    }
   ],
   "source": [
    "filepath=\"../files/sample.txt\"\n",
    "with open(filepath,'r') as f:\n",
    "    data=f.read()\n",
    "    l=list(data)\n",
    "    print(l)"
   ]
  },
  {
   "cell_type": "code",
   "execution_count": null,
   "metadata": {},
   "outputs": [],
   "source": []
  }
 ],
 "metadata": {
  "kernelspec": {
   "display_name": "Python 3",
   "language": "python",
   "name": "python3"
  },
  "language_info": {
   "codemirror_mode": {
    "name": "ipython",
    "version": 3
   },
   "file_extension": ".py",
   "mimetype": "text/x-python",
   "name": "python",
   "nbconvert_exporter": "python",
   "pygments_lexer": "ipython3",
   "version": "3.7.3"
  }
 },
 "nbformat": 4,
 "nbformat_minor": 2
}
